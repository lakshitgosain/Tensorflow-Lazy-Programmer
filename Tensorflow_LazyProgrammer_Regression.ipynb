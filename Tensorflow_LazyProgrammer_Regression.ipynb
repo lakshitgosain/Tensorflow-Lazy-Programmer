{
  "nbformat": 4,
  "nbformat_minor": 0,
  "metadata": {
    "colab": {
      "provenance": [],
      "authorship_tag": "ABX9TyO8PziYjWSwkDmRYZCjIaci",
      "include_colab_link": true
    },
    "kernelspec": {
      "name": "python3",
      "display_name": "Python 3"
    },
    "language_info": {
      "name": "python"
    }
  },
  "cells": [
    {
      "cell_type": "markdown",
      "metadata": {
        "id": "view-in-github",
        "colab_type": "text"
      },
      "source": [
        "<a href=\"https://colab.research.google.com/github/lakshitgosain/Tensorflow-Lazy-Programmer/blob/main/Tensorflow_LazyProgrammer_Regression.ipynb\" target=\"_parent\"><img src=\"https://colab.research.google.com/assets/colab-badge.svg\" alt=\"Open In Colab\"/></a>"
      ]
    },
    {
      "cell_type": "code",
      "execution_count": 1,
      "metadata": {
        "id": "CKP8rK-46aDw"
      },
      "outputs": [],
      "source": [
        "#We'll be proving Moore's Law in the COde of Regression Coding Practice\n",
        "#C=A*r^t This is exponential Exuation\n",
        "#By using Log, we can convert it to a Linear Equation\n",
        "#log(c)=log(r)*t+log(A)"
      ]
    },
    {
      "cell_type": "code",
      "source": [],
      "metadata": {
        "id": "lB-WkHMlS_ay"
      },
      "execution_count": null,
      "outputs": []
    }
  ]
}
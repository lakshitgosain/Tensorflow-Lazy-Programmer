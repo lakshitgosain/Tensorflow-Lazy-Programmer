{
  "nbformat": 4,
  "nbformat_minor": 0,
  "metadata": {
    "colab": {
      "provenance": [],
      "authorship_tag": "ABX9TyNXw1xPIRCULb6tBOIY5WKI",
      "include_colab_link": true
    },
    "kernelspec": {
      "name": "python3",
      "display_name": "Python 3"
    },
    "language_info": {
      "name": "python"
    }
  },
  "cells": [
    {
      "cell_type": "markdown",
      "metadata": {
        "id": "view-in-github",
        "colab_type": "text"
      },
      "source": [
        "<a href=\"https://colab.research.google.com/github/lakshitgosain/Tensorflow-Lazy-Programmer/blob/main/Tensorflow_Lazy_Programmer_Section_3.ipynb\" target=\"_parent\"><img src=\"https://colab.research.google.com/assets/colab-badge.svg\" alt=\"Open In Colab\"/></a>"
      ]
    },
    {
      "cell_type": "code",
      "execution_count": null,
      "metadata": {
        "id": "VM4LtGFT_lCl"
      },
      "outputs": [],
      "source": [
        "#1. Architecture of the model (what equation is being used to go from input to prediction) \n",
        "#2. How is the model trained. \n",
        "  #a. Building a cost Function/error/loss \n",
        "  #b. Gradient Descent on the cost function."
      ]
    },
    {
      "cell_type": "code",
      "source": [
        "\"\"\"\n",
        "#how is a line used to classify?\n",
        "  a=w1x1+w2x2+b\n",
        "  if a>=0 --> predict 1\n",
        "  else if a<0-->pedict 0\n",
        "\n",
        "This is how we can use a line as a prediction Model.\n",
        "\"\"\""
      ],
      "metadata": {
        "colab": {
          "base_uri": "https://localhost:8080/",
          "height": 35
        },
        "id": "3DwtIA7OEEiP",
        "outputId": "0b97a06b-83d5-4951-e070-8b18e0c72cda"
      },
      "execution_count": null,
      "outputs": [
        {
          "output_type": "execute_result",
          "data": {
            "text/plain": [
              "'\\n#how is a line used to classify?\\n  a=w1x1+w2x2+b\\n  if a>=0 --> predict 1\\n  else if a<0-->pedict 0\\n\\nThis is how we can use a line as a prediction Model.\\n'"
            ],
            "application/vnd.google.colaboratory.intrinsic+json": {
              "type": "string"
            }
          },
          "metadata": {},
          "execution_count": 2
        }
      ]
    },
    {
      "cell_type": "code",
      "source": [
        "#In deep learing we use a smooth,differentiable function. E.g Sigmoid\n",
        "#y=Sigma(a). It predictis a probabilituy"
      ],
      "metadata": {
        "id": "ni1P4bCREVhC"
      },
      "execution_count": null,
      "outputs": []
    },
    {
      "cell_type": "code",
      "source": [
        "\"\"\"\n",
        "it normally predicts a probabiolity\n",
        "to make the prediction , we round the probability if more than 50% then this , else predict this value\n",
        "The 'S-Shaped' Curve is called sigmoid function\n",
        "The model is called Logistic Regression\n",
        "\"\"\""
      ],
      "metadata": {
        "colab": {
          "base_uri": "https://localhost:8080/",
          "height": 35
        },
        "id": "ly9oPTAoEzPn",
        "outputId": "4af95db4-3414-4312-bf83-aae77f263feb"
      },
      "execution_count": null,
      "outputs": [
        {
          "output_type": "execute_result",
          "data": {
            "text/plain": [
              "\"\\nit normally predicts a probabiolity\\nto make the prediction , we round the probability if more than 50% then this , else predict this value\\nThe 'S-Shaped' Curve is called sigmoid function\\n\""
            ],
            "application/vnd.google.colaboratory.intrinsic+json": {
              "type": "string"
            }
          },
          "metadata": {},
          "execution_count": 5
        }
      ]
    },
    {
      "cell_type": "code",
      "source": [
        "#What if there are 100 /1000 inputs\n",
        "  #We just make use of matrics/vectors\n",
        "  "
      ],
      "metadata": {
        "id": "t7E-AltfFGcC"
      },
      "execution_count": null,
      "outputs": []
    },
    {
      "cell_type": "code",
      "source": [
        "#In Tensorflow , it is mostly an exercis of API Hunting. Our joob is to find out which function implements the math in question.\n",
        "#The new way to write tensorflow code is to use layers from the Keras Module"
      ],
      "metadata": {
        "id": "FYXLeSYkFfPG"
      },
      "execution_count": null,
      "outputs": []
    },
    {
      "cell_type": "code",
      "source": [
        "model=tf.keras.models.Sequential([ #Each layer in the list occurs sequentially\n",
        "    tf.keras.layers.input(shape=(D,)),\n",
        "    tf.keras.layers.Dense(1,activation='sigmoid')\n",
        "])"
      ],
      "metadata": {
        "id": "3sSHhEE8F0Ky"
      },
      "execution_count": null,
      "outputs": []
    },
    {
      "cell_type": "code",
      "source": [
        "#How to train/Fit our model\n",
        "model.compile(optimizer='adam',\n",
        "              loss='binary_crossentropy',\n",
        "              metrics=['accuracy'])\n",
        "#optimizr- The general Strategy is Gradient Descent. But there are many flavours of gradient descent\n",
        "#The typicaldefault in Deep Learning is \"adam\""
      ],
      "metadata": {
        "colab": {
          "base_uri": "https://localhost:8080/",
          "height": 217
        },
        "id": "w2mAUfpZGaoA",
        "outputId": "fdf4561e-edee-4d89-eeab-c147d11a1d19"
      },
      "execution_count": null,
      "outputs": [
        {
          "output_type": "error",
          "ename": "NameError",
          "evalue": "ignored",
          "traceback": [
            "\u001b[0;31m---------------------------------------------------------------------------\u001b[0m",
            "\u001b[0;31mNameError\u001b[0m                                 Traceback (most recent call last)",
            "\u001b[0;32m<ipython-input-8-bc345aa90a66>\u001b[0m in \u001b[0;36m<module>\u001b[0;34m\u001b[0m\n\u001b[1;32m      1\u001b[0m \u001b[0;31m#How to train/Fit our model\u001b[0m\u001b[0;34m\u001b[0m\u001b[0;34m\u001b[0m\u001b[0;34m\u001b[0m\u001b[0m\n\u001b[0;32m----> 2\u001b[0;31m model.compile(optimizer='adam',\n\u001b[0m\u001b[1;32m      3\u001b[0m               \u001b[0mloss\u001b[0m\u001b[0;34m=\u001b[0m\u001b[0;34m'binary_crossentropy'\u001b[0m\u001b[0;34m,\u001b[0m\u001b[0;34m\u001b[0m\u001b[0;34m\u001b[0m\u001b[0m\n\u001b[1;32m      4\u001b[0m               metrics=['accuracy'])\n",
            "\u001b[0;31mNameError\u001b[0m: name 'model' is not defined"
          ]
        }
      ]
    },
    {
      "cell_type": "code",
      "source": [
        "r= model.fit(X_train, y_train, validation_data=(X_test, y_test),epochs=100)"
      ],
      "metadata": {
        "colab": {
          "base_uri": "https://localhost:8080/",
          "height": 165
        },
        "id": "OEqn5jFbGeOo",
        "outputId": "f7e83783-9286-4fc6-aa4e-5a060c113b17"
      },
      "execution_count": null,
      "outputs": [
        {
          "output_type": "error",
          "ename": "NameError",
          "evalue": "ignored",
          "traceback": [
            "\u001b[0;31m---------------------------------------------------------------------------\u001b[0m",
            "\u001b[0;31mNameError\u001b[0m                                 Traceback (most recent call last)",
            "\u001b[0;32m<ipython-input-9-68598d368b4d>\u001b[0m in \u001b[0;36m<module>\u001b[0;34m\u001b[0m\n\u001b[0;32m----> 1\u001b[0;31m \u001b[0mr\u001b[0m\u001b[0;34m=\u001b[0m \u001b[0mmodel\u001b[0m\u001b[0;34m.\u001b[0m\u001b[0mfit\u001b[0m\u001b[0;34m(\u001b[0m\u001b[0mX_train\u001b[0m\u001b[0;34m,\u001b[0m \u001b[0my_train\u001b[0m\u001b[0;34m,\u001b[0m \u001b[0mvalidation_data\u001b[0m\u001b[0;34m=\u001b[0m\u001b[0;34m(\u001b[0m\u001b[0mX_test\u001b[0m\u001b[0;34m,\u001b[0m \u001b[0my_test\u001b[0m\u001b[0;34m)\u001b[0m\u001b[0;34m,\u001b[0m\u001b[0mepochs\u001b[0m\u001b[0;34m=\u001b[0m\u001b[0;36m100\u001b[0m\u001b[0;34m)\u001b[0m\u001b[0;34m\u001b[0m\u001b[0;34m\u001b[0m\u001b[0m\n\u001b[0m",
            "\u001b[0;31mNameError\u001b[0m: name 'model' is not defined"
          ]
        }
      ]
    },
    {
      "cell_type": "code",
      "source": [
        "plt.plot(r.history['loss'],label='loss')\n",
        "plt.plot(r.history('val_loss',label='val_loss'))"
      ],
      "metadata": {
        "id": "7GVwbb6EHys7"
      },
      "execution_count": null,
      "outputs": []
    }
  ]
}